{
 "cells": [
  {
   "cell_type": "markdown",
   "id": "a648e598-c950-4486-851a-053c859c0481",
   "metadata": {},
   "source": [
    "# Assignment 5\n",
    "\n",
    "Change which symb you run depending on what properties of the spiral you want to show"
   ]
  },
  {
   "cell_type": "code",
   "execution_count": 1,
   "id": "9b2fde92-9eac-4667-acc4-5faaea768c4c",
   "metadata": {
    "tags": []
   },
   "outputs": [],
   "source": [
    "import numpy as np"
   ]
  },
  {
   "cell_type": "code",
   "execution_count": 2,
   "id": "f698c842-a56d-4d6d-9bda-0eeb1392f467",
   "metadata": {
    "tags": []
   },
   "outputs": [],
   "source": [
    "def symb(u): # function used to get one colour spiral\n",
    "    return \"\\u001b[30m\" + str(u)"
   ]
  },
  {
   "cell_type": "code",
   "execution_count": 3,
   "id": "efc303da-aecf-401e-99dc-22deaafae8c8",
   "metadata": {
    "tags": []
   },
   "outputs": [],
   "source": [
    "def symb(u): # function used to get even and odd colouring\n",
    "    if u % 2 == 0:\n",
    "        return \"\\u001b[30m\" + str(u)\n",
    "    else:\n",
    "        return \"\\u001b[31m\" + str(u)"
   ]
  },
  {
   "cell_type": "code",
   "execution_count": 4,
   "id": "9e9af77f-b75b-4a13-aa47-d6f4fc73ee31",
   "metadata": {
    "tags": []
   },
   "outputs": [],
   "source": [
    "def symb(u): # function used to check forms of diagonal\n",
    "    if (u == 1):\n",
    "            return \"\\u001b[30m\" + str(u)\n",
    "    for k in range (1, u):\n",
    "        if(u == (4*k**2 - 2*k + 1)): #orange\n",
    "            return \"\\u001B[93m\" + str(u)\n",
    "        elif (u == (4*k**2 + 1)): #green\n",
    "            return \"\\u001b[32m\" + str(u)\n",
    "        elif (u == (4*k**2 + 2*k + 1)): #dark blue\n",
    "            return \"\\u001b[34m\" + str(u)\n",
    "        elif (u == ((2*k + 1)**2)): #pink\n",
    "            return \"\\u001b[35m\" + str(u)\n",
    "        elif (u == (4*k**2 - 3*k + 1)): #yellow\n",
    "            return \"\\u001B[33m\" + str(u)\n",
    "        elif (u == (4*k**2 - k + 1)): # red\n",
    "            return \"\\u001b[31m\" + str(u)\n",
    "        elif (u == (4*k**2 + k + 1)): # light blue\n",
    "            return \"\\u001b[36m\" + str(u)\n",
    "        elif (u == (4*k**2 + 3*k + 1)): # purple\n",
    "            return \"\\u001B[95m\" + str(u)\n",
    "    return \"\\u001b[30m\" + str(u)"
   ]
  },
  {
   "cell_type": "code",
   "execution_count": 5,
   "id": "b70945e6-031b-42ec-b123-67c859bfafe3",
   "metadata": {
    "tags": []
   },
   "outputs": [],
   "source": [
    "def symb(u): # function used to check square numbers with even number generator - extend\n",
    "    for k in range (1, u):\n",
    "        if (u == ((2*k)**2)): #pink\n",
    "            return \"\\u001b[35m\" + str(u)\n",
    "    return \"\\u001b[30m\" + str(u)"
   ]
  },
  {
   "cell_type": "code",
   "execution_count": 6,
   "id": "0a6050bd-6fba-4465-8c8a-f74ebb82c82e",
   "metadata": {
    "tags": []
   },
   "outputs": [],
   "source": [
    "def symb(u): # function used to check prime numbers - extend\n",
    "    for i in range(2, u):\n",
    "        if ((u % i)== 0):\n",
    "            return \"\\u001b[30m\" + str(u)\n",
    "    return \"\\u001b[31m\" + str(u)"
   ]
  },
  {
   "cell_type": "code",
   "execution_count": 7,
   "id": "ced2f3c2-0a2a-4be5-a619-f6ba7b5c69ed",
   "metadata": {
    "tags": []
   },
   "outputs": [],
   "source": [
    "def generate_spiral(n):\n",
    "    # find dimension of matrix needed\n",
    "    for i in range(n):\n",
    "        largest_value = (2*i-1)*(2*i-1)\n",
    "        if n < largest_value:\n",
    "            dimension = 2*i - 1\n",
    "            break\n",
    "    \n",
    "    # Initialize variables\n",
    "    spiral = np.zeros((dimension,dimension), dtype=int)\n",
    "    current_number = 1\n",
    "    # start at centre\n",
    "    x = dimension // 2 \n",
    "    y = dimension // 2\n",
    "\n",
    "    # fill the centre\n",
    "    spiral[y][x] = int(current_number)\n",
    "    current_number += 1\n",
    "    length = 1\n",
    "    \n",
    "    # fill the rest of the spiral\n",
    "    while length < n:\n",
    "        # start by going right \n",
    "        for i in range(length):\n",
    "            x += 1\n",
    "            spiral[y][x] = current_number\n",
    "            current_number += 1\n",
    "            if current_number > n:\n",
    "                return spiral\n",
    "        # go up by length\n",
    "        for i in range(length):\n",
    "            y -= 1\n",
    "            spiral[y][x] = current_number\n",
    "            current_number += 1\n",
    "            if current_number > n:\n",
    "                return spiral\n",
    "        # increase size of length by 1\n",
    "        length += 1\n",
    "        # go to the left\n",
    "        for i in range(length):\n",
    "            x -= 1\n",
    "            spiral[y][x] = current_number\n",
    "            current_number += 1\n",
    "            if current_number > n:\n",
    "                return spiral\n",
    "        # go down\n",
    "        for i in range(length):\n",
    "            y += 1\n",
    "            spiral[y][x] = current_number\n",
    "            current_number += 1\n",
    "            if current_number > n:\n",
    "                return spiral\n",
    "        # increase the size of the spiral by 2 \n",
    "        length += 1\n",
    "    \n",
    "    # Fill the last column/row\n",
    "    for i in range(length - 1):\n",
    "        x += 1\n",
    "        spiral[y][x] = current_number\n",
    "        current_number += 1\n",
    "        if current_number > n:\n",
    "                return spiral\n",
    "    \n",
    "    return spiral"
   ]
  },
  {
   "cell_type": "code",
   "execution_count": 8,
   "id": "5c340ad2-656b-44ca-ae60-bdec6d69a9ca",
   "metadata": {
    "tags": []
   },
   "outputs": [],
   "source": [
    "def print_spiral(spiral):\n",
    "    dimension = len(spiral)\n",
    "    for i in range(dimension):\n",
    "        for j in range(dimension):\n",
    "            # start a new row if at the start of a row\n",
    "            if j == 0:\n",
    "                print()\n",
    "            # if number is out of range of the final number we wanted just print a blank space\n",
    "            if spiral[i][j] == 0:\n",
    "                print(\"  \", end=\" \")\n",
    "            #if number is less than 10 add extra space so formating is nicer\n",
    "            elif spiral[i][j] < 10:\n",
    "                print(symb(spiral[i][j]), \"\", end=\" \")\n",
    "            else:\n",
    "                print(symb(spiral[i][j]), end=\" \")"
   ]
  },
  {
   "cell_type": "code",
   "execution_count": 9,
   "id": "de834896-b4ce-4db1-b12d-41181a9ea4a7",
   "metadata": {
    "tags": []
   },
   "outputs": [
    {
     "name": "stdout",
     "output_type": "stream",
     "text": [
      "\n",
      "                                 \n",
      "   \u001b[30m65 \u001b[30m64 \u001b[30m63 \u001b[30m62 \u001b[31m61 \u001b[30m60 \u001b[31m59 \u001b[30m58 \u001b[30m57    \n",
      "   \u001b[30m66 \u001b[31m37 \u001b[30m36 \u001b[30m35 \u001b[30m34 \u001b[30m33 \u001b[30m32 \u001b[31m31 \u001b[30m56    \n",
      "   \u001b[31m67 \u001b[30m38 \u001b[31m17 \u001b[30m16 \u001b[30m15 \u001b[30m14 \u001b[31m13 \u001b[30m30 \u001b[30m55    \n",
      "   \u001b[30m68 \u001b[30m39 \u001b[30m18 \u001b[31m5  \u001b[30m4  \u001b[31m3  \u001b[30m12 \u001b[31m29 \u001b[30m54    \n",
      "   \u001b[30m69 \u001b[30m40 \u001b[31m19 \u001b[30m6  \u001b[31m1  \u001b[31m2  \u001b[31m11 \u001b[30m28 \u001b[31m53    \n",
      "   \u001b[30m70 \u001b[31m41 \u001b[30m20 \u001b[31m7  \u001b[30m8  \u001b[30m9  \u001b[30m10 \u001b[30m27 \u001b[30m52    \n",
      "   \u001b[31m71 \u001b[30m42 \u001b[30m21 \u001b[30m22 \u001b[31m23 \u001b[30m24 \u001b[30m25 \u001b[30m26 \u001b[30m51    \n",
      "   \u001b[30m72 \u001b[31m43 \u001b[30m44 \u001b[30m45 \u001b[30m46 \u001b[31m47 \u001b[30m48 \u001b[30m49 \u001b[30m50    \n",
      "   \u001b[31m73 \u001b[30m74 \u001b[30m75 \u001b[30m76 \u001b[30m77 \u001b[30m78 \u001b[31m79 \u001b[30m80 \u001b[30m81    \n",
      "                                 "
     ]
    }
   ],
   "source": [
    "spiral = generate_spiral(81)\n",
    "print_spiral(spiral)"
   ]
  }
 ],
 "metadata": {
  "kernelspec": {
   "display_name": "Python 3 (ipykernel)",
   "language": "python",
   "name": "python3"
  },
  "language_info": {
   "codemirror_mode": {
    "name": "ipython",
    "version": 3
   },
   "file_extension": ".py",
   "mimetype": "text/x-python",
   "name": "python",
   "nbconvert_exporter": "python",
   "pygments_lexer": "ipython3",
   "version": "3.11.5"
  }
 },
 "nbformat": 4,
 "nbformat_minor": 5
}
