{
 "cells": [
  {
   "cell_type": "markdown",
   "id": "bfb6d3c8-39ce-487d-94c4-b6f5c5724a00",
   "metadata": {},
   "source": [
    "# Assignment 1"
   ]
  },
  {
   "cell_type": "code",
   "execution_count": 1,
   "id": "03fa7140-1c52-49bd-9418-48efc1c90ba9",
   "metadata": {},
   "outputs": [],
   "source": [
    "import numpy as np\n",
    "import matplotlib.pyplot as plt"
   ]
  },
  {
   "cell_type": "code",
   "execution_count": 2,
   "id": "e7a46a9b-2d2f-4a1c-8d93-42243396a4dc",
   "metadata": {},
   "outputs": [],
   "source": [
    "def symb(u):\n",
    "    if u==0:\n",
    "        return \"\\u001b[30m0\" # black 0 \n",
    "    elif u==1:\n",
    "        return \"\\u001b[33m1\" # yellow 1\n",
    "    elif u==2:\n",
    "        return \"\\u001b[31m2\" # red 2\n",
    "    elif u==3:\n",
    "        return \"\\u001b[30m3\" # black 3\n",
    "    elif u==4:\n",
    "        return \"\\u001b[30m4\" # black 4\n",
    "    elif u==5:\n",
    "        return \"\\u001b[30m5\" # black 5\n",
    "    elif u==6:\n",
    "        return \"\\u001b[30m6\" # black 6\n",
    "    elif u==7:\n",
    "        return \"\\u001b[30m7\" # black 7\n",
    "    elif u==8:\n",
    "        return \"\\u001b[30m8\" # black 8\n",
    "    else:\n",
    "        return \"\\u001b[30m9\" # black 9"
   ]
  },
  {
   "cell_type": "code",
   "execution_count": 3,
   "id": "501237fe-563f-436a-9b1c-9140ac21bcec",
   "metadata": {},
   "outputs": [],
   "source": [
    "# Function to find N elements of (a, b)\n",
    "def number_bracelet(a, b, N):\n",
    "    y = np.zeros(N)\n",
    "    y[0] = a\n",
    "    y[1] = b\n",
    "    for i in range(2, N):\n",
    "        y[i] = (y[i - 1] + y[i - 2]) % 10\n",
    "    return(y)"
   ]
  },
  {
   "cell_type": "code",
   "execution_count": 4,
   "id": "a7597164-15ac-4a5d-8696-353d504859de",
   "metadata": {
    "tags": []
   },
   "outputs": [
    {
     "name": "stdout",
     "output_type": "stream",
     "text": [
      "\u001b[30m0, \u001b[30m0, \u001b[30m0, \u001b[30m0, \u001b[30m0, \u001b[30m0, \u001b[30m0, \u001b[30m0, \u001b[30m0, \u001b[30m0, \u001b[30m0, \u001b[30m0, \u001b[30m0, \u001b[30m0, \u001b[30m0, \u001b[30m0, \u001b[30m0, \u001b[30m0, \u001b[30m0, \u001b[30m0, \u001b[30m0, \u001b[30m0, \u001b[30m0, \u001b[30m0, \u001b[30m0, \u001b[30m0, \u001b[30m0, \u001b[30m0, \u001b[30m0, \u001b[30m0, \u001b[30m0, \u001b[30m0, \u001b[30m0, \u001b[30m0, \u001b[30m0, \u001b[30m0, \u001b[30m0, \u001b[30m0, \u001b[30m0, \u001b[30m0, \u001b[30m0, \u001b[30m0, \u001b[30m0, \u001b[30m0, \u001b[30m0, \u001b[30m0, \u001b[30m0, \u001b[30m0, \u001b[30m0, \u001b[30m0, \u001b[30m0, \u001b[30m0, \u001b[30m0, \u001b[30m0, \u001b[30m0, \u001b[30m0, \u001b[30m0, \u001b[30m0, "
     ]
    }
   ],
   "source": [
    "# (0, 0)\n",
    "y = number_bracelet(0, 0, 100)\n",
    "for i in y[42:104]:\n",
    "    print(symb(i), end = \", \")"
   ]
  },
  {
   "cell_type": "code",
   "execution_count": 5,
   "id": "fa7add78-1a01-43a4-8257-459dc8b8ced4",
   "metadata": {
    "tags": []
   },
   "outputs": [
    {
     "name": "stdout",
     "output_type": "stream",
     "text": [
      "\u001b[33m1, \u001b[33m1, \u001b[31m2, \u001b[30m3, \u001b[30m5, \u001b[30m8, \u001b[30m3, \u001b[33m1, \u001b[30m4, \u001b[30m5, \u001b[30m9, \u001b[30m4, \u001b[30m3, \u001b[30m7, \u001b[30m0, \u001b[30m7, \u001b[30m7, \u001b[30m4, \u001b[33m1, \u001b[30m5, \u001b[30m6, \u001b[33m1, \u001b[30m7, \u001b[30m8, \u001b[30m5, \u001b[30m3, \u001b[30m8, \u001b[33m1, \u001b[30m9, \u001b[30m0, \u001b[30m9, \u001b[30m9, \u001b[30m8, \u001b[30m7, \u001b[30m5, \u001b[31m2, \u001b[30m7, \u001b[30m9, \u001b[30m6, \u001b[30m5, \u001b[33m1, \u001b[30m6, \u001b[30m7, \u001b[30m3, \u001b[30m0, \u001b[30m3, \u001b[30m3, \u001b[30m6, \u001b[30m9, \u001b[30m5, \u001b[30m4, \u001b[30m9, \u001b[30m3, \u001b[31m2, \u001b[30m5, \u001b[30m7, \u001b[31m2, \u001b[30m9, "
     ]
    }
   ],
   "source": [
    "# (1, 5)\n",
    "y = number_bracelet(1, 5, 100)\n",
    "for i in y[42:104]:\n",
    "    print(symb(i), end = \", \")"
   ]
  },
  {
   "cell_type": "code",
   "execution_count": 6,
   "id": "fb267f77-8f13-4dd3-9567-6f27bc6f2f21",
   "metadata": {
    "tags": []
   },
   "outputs": [
    {
     "name": "stdout",
     "output_type": "stream",
     "text": [
      "\u001b[33m1, \u001b[33m1, \u001b[31m2, \u001b[30m3, \u001b[30m5, \u001b[30m8, \u001b[30m3, \u001b[33m1, \u001b[30m4, \u001b[30m5, \u001b[30m9, \u001b[30m4, \u001b[30m3, \u001b[30m7, \u001b[30m0, \u001b[30m7, \u001b[30m7, \u001b[30m4, \u001b[33m1, \u001b[30m5, \u001b[30m6, \u001b[33m1, \u001b[30m7, \u001b[30m8, \u001b[30m5, \u001b[30m3, \u001b[30m8, \u001b[33m1, \u001b[30m9, \u001b[30m0, \u001b[30m9, \u001b[30m9, \u001b[30m8, \u001b[30m7, \u001b[30m5, \u001b[31m2, \u001b[30m7, \u001b[30m9, \u001b[30m6, \u001b[30m5, \u001b[33m1, \u001b[30m6, \u001b[30m7, \u001b[30m3, \u001b[30m0, \u001b[30m3, \u001b[30m3, \u001b[30m6, \u001b[30m9, \u001b[30m5, \u001b[30m4, \u001b[30m9, \u001b[30m3, \u001b[31m2, \u001b[30m5, \u001b[30m7, \u001b[31m2, \u001b[30m9, \u001b[33m1, \u001b[30m0, \u001b[33m1, \u001b[33m1, \u001b[31m2, \u001b[30m3, \u001b[30m5, \u001b[30m8, \u001b[30m3, \u001b[33m1, \u001b[30m4, \u001b[30m5, \u001b[30m9, \u001b[30m4, \u001b[30m3, \u001b[30m7, \u001b[30m0, \u001b[30m7, \u001b[30m7, \u001b[30m4, \u001b[33m1, \u001b[30m5, \u001b[30m6, \u001b[33m1, \u001b[30m7, \u001b[30m8, \u001b[30m5, \u001b[30m3, \u001b[30m8, \u001b[33m1, \u001b[30m9, \u001b[30m0, \u001b[30m9, \u001b[30m9, \u001b[30m8, \u001b[30m7, \u001b[30m5, \u001b[31m2, \u001b[30m7, \u001b[30m9, \u001b[30m6, \u001b[30m5, "
     ]
    }
   ],
   "source": [
    "# (1, 1)\n",
    "y = number_bracelet(1, 1, 100)\n",
    "for i in y:\n",
    "    print(symb(i), end = \", \")"
   ]
  },
  {
   "cell_type": "code",
   "execution_count": 7,
   "id": "06cb649a-7156-489d-9a66-9f36eca9befc",
   "metadata": {
    "tags": []
   },
   "outputs": [
    {
     "name": "stdout",
     "output_type": "stream",
     "text": [
      "\u001b[30m5, \u001b[33m1, \u001b[30m6, \u001b[30m7, \u001b[30m3, \u001b[30m0, \u001b[30m3, \u001b[30m3, \u001b[30m6, \u001b[30m9, \u001b[30m5, \u001b[30m4, \u001b[30m9, \u001b[30m3, \u001b[31m2, \u001b[30m5, \u001b[30m7, \u001b[31m2, \u001b[30m9, \u001b[33m1, \u001b[30m0, \u001b[33m1, \u001b[33m1, \u001b[31m2, \u001b[30m3, \u001b[30m5, \u001b[30m8, \u001b[30m3, \u001b[33m1, \u001b[30m4, \u001b[30m5, \u001b[30m9, \u001b[30m4, \u001b[30m3, \u001b[30m7, \u001b[30m0, \u001b[30m7, \u001b[30m7, \u001b[30m4, \u001b[33m1, \u001b[30m5, \u001b[30m6, \u001b[33m1, \u001b[30m7, \u001b[30m8, \u001b[30m5, \u001b[30m3, \u001b[30m8, \u001b[33m1, \u001b[30m9, \u001b[30m0, \u001b[30m9, \u001b[30m9, \u001b[30m8, \u001b[30m7, \u001b[30m5, \u001b[31m2, \u001b[30m7, \u001b[30m9, \u001b[30m6, \u001b[30m5, \u001b[33m1, \u001b[30m6, \u001b[30m7, \u001b[30m3, \u001b[30m0, \u001b[30m3, \u001b[30m3, \u001b[30m6, \u001b[30m9, \u001b[30m5, \u001b[30m4, \u001b[30m9, \u001b[30m3, \u001b[31m2, \u001b[30m5, \u001b[30m7, \u001b[31m2, \u001b[30m9, \u001b[33m1, \u001b[30m0, \u001b[33m1, \u001b[33m1, \u001b[31m2, \u001b[30m3, \u001b[30m5, \u001b[30m8, \u001b[30m3, \u001b[33m1, \u001b[30m4, \u001b[30m5, \u001b[30m9, \u001b[30m4, \u001b[30m3, \u001b[30m7, \u001b[30m0, \u001b[30m7, \u001b[30m7, \u001b[30m4, \u001b[33m1, "
     ]
    }
   ],
   "source": [
    "# (5, 1)\n",
    "y = number_bracelet(5, 1, 100)\n",
    "for i in y:\n",
    "    print(symb(i), end = \", \")"
   ]
  },
  {
   "cell_type": "code",
   "execution_count": 8,
   "id": "b4ccd18c-2485-4472-83e5-1cd6695a578f",
   "metadata": {
    "tags": []
   },
   "outputs": [
    {
     "name": "stdout",
     "output_type": "stream",
     "text": [
      "\u001b[30m4, \u001b[30m3, \u001b[30m7, \u001b[30m0, \u001b[30m7, \u001b[30m7, \u001b[30m4, \u001b[33m1, \u001b[30m5, \u001b[30m6, \u001b[33m1, \u001b[30m7, \u001b[30m8, \u001b[30m5, \u001b[30m3, \u001b[30m8, \u001b[33m1, \u001b[30m9, \u001b[30m0, \u001b[30m9, \u001b[30m9, \u001b[30m8, \u001b[30m7, \u001b[30m5, \u001b[31m2, \u001b[30m7, \u001b[30m9, \u001b[30m6, \u001b[30m5, \u001b[33m1, \u001b[30m6, \u001b[30m7, \u001b[30m3, \u001b[30m0, \u001b[30m3, \u001b[30m3, \u001b[30m6, \u001b[30m9, \u001b[30m5, \u001b[30m4, \u001b[30m9, \u001b[30m3, \u001b[31m2, \u001b[30m5, \u001b[30m7, \u001b[31m2, \u001b[30m9, \u001b[33m1, \u001b[30m0, \u001b[33m1, \u001b[33m1, \u001b[31m2, \u001b[30m3, \u001b[30m5, \u001b[30m8, \u001b[30m3, \u001b[33m1, \u001b[30m4, \u001b[30m5, \u001b[30m9, \u001b[30m4, \u001b[30m3, \u001b[30m7, \u001b[30m0, \u001b[30m7, \u001b[30m7, \u001b[30m4, \u001b[33m1, \u001b[30m5, \u001b[30m6, \u001b[33m1, \u001b[30m7, \u001b[30m8, \u001b[30m5, \u001b[30m3, \u001b[30m8, \u001b[33m1, \u001b[30m9, \u001b[30m0, \u001b[30m9, \u001b[30m9, \u001b[30m8, \u001b[30m7, \u001b[30m5, \u001b[31m2, \u001b[30m7, \u001b[30m9, \u001b[30m6, \u001b[30m5, \u001b[33m1, \u001b[30m6, \u001b[30m7, \u001b[30m3, \u001b[30m0, \u001b[30m3, \u001b[30m3, \u001b[30m6, \u001b[30m9, \u001b[30m5, \u001b[30m4, "
     ]
    }
   ],
   "source": [
    "# (4, 3)\n",
    "y = number_bracelet(4, 3, 100)\n",
    "for i in y:\n",
    "    print(symb(i), end = \", \")"
   ]
  },
  {
   "cell_type": "code",
   "execution_count": 9,
   "id": "1c21ec43-cfdc-4421-81db-d08deb5c235c",
   "metadata": {
    "tags": []
   },
   "outputs": [
    {
     "name": "stdout",
     "output_type": "stream",
     "text": [
      "\u001b[30m3, \u001b[30m4, \u001b[30m7, \u001b[33m1, \u001b[30m8, \u001b[30m9, \u001b[30m7, \u001b[30m6, \u001b[30m3, \u001b[30m9, \u001b[31m2, \u001b[33m1, \u001b[30m3, \u001b[30m4, \u001b[30m7, \u001b[33m1, \u001b[30m8, \u001b[30m9, \u001b[30m7, \u001b[30m6, \u001b[30m3, \u001b[30m9, \u001b[31m2, \u001b[33m1, \u001b[30m3, \u001b[30m4, \u001b[30m7, \u001b[33m1, \u001b[30m8, \u001b[30m9, \u001b[30m7, \u001b[30m6, \u001b[30m3, \u001b[30m9, \u001b[31m2, \u001b[33m1, \u001b[30m3, \u001b[30m4, \u001b[30m7, \u001b[33m1, \u001b[30m8, \u001b[30m9, \u001b[30m7, \u001b[30m6, \u001b[30m3, \u001b[30m9, \u001b[31m2, \u001b[33m1, \u001b[30m3, \u001b[30m4, \u001b[30m7, \u001b[33m1, \u001b[30m8, \u001b[30m9, \u001b[30m7, \u001b[30m6, \u001b[30m3, \u001b[30m9, \u001b[31m2, \u001b[33m1, \u001b[30m3, \u001b[30m4, \u001b[30m7, \u001b[33m1, \u001b[30m8, \u001b[30m9, \u001b[30m7, \u001b[30m6, \u001b[30m3, \u001b[30m9, \u001b[31m2, \u001b[33m1, \u001b[30m3, \u001b[30m4, \u001b[30m7, \u001b[33m1, \u001b[30m8, \u001b[30m9, \u001b[30m7, \u001b[30m6, \u001b[30m3, \u001b[30m9, \u001b[31m2, \u001b[33m1, \u001b[30m3, \u001b[30m4, \u001b[30m7, \u001b[33m1, \u001b[30m8, \u001b[30m9, \u001b[30m7, \u001b[30m6, \u001b[30m3, \u001b[30m9, \u001b[31m2, \u001b[33m1, \u001b[30m3, \u001b[30m4, \u001b[30m7, \u001b[33m1, "
     ]
    }
   ],
   "source": [
    "# (3, 4)\n",
    "y = number_bracelet(3, 4, 100)\n",
    "for i in y:\n",
    "    print(symb(i), end = \", \")"
   ]
  },
  {
   "cell_type": "code",
   "execution_count": 10,
   "id": "d9a83442-7425-4281-94d8-658205f83bf2",
   "metadata": {
    "tags": []
   },
   "outputs": [
    {
     "name": "stdout",
     "output_type": "stream",
     "text": [
      "\u001b[31m2, \u001b[30m4, \u001b[30m6, \u001b[30m0, \u001b[30m6, \u001b[30m6, \u001b[31m2, \u001b[30m8, \u001b[30m0, \u001b[30m8, \u001b[30m8, \u001b[30m6, \u001b[30m4, \u001b[30m0, \u001b[30m4, \u001b[30m4, \u001b[30m8, \u001b[31m2, \u001b[30m0, \u001b[31m2, \u001b[31m2, \u001b[30m4, \u001b[30m6, \u001b[30m0, \u001b[30m6, \u001b[30m6, \u001b[31m2, \u001b[30m8, \u001b[30m0, \u001b[30m8, \u001b[30m8, \u001b[30m6, \u001b[30m4, \u001b[30m0, \u001b[30m4, \u001b[30m4, \u001b[30m8, \u001b[31m2, \u001b[30m0, \u001b[31m2, \u001b[31m2, \u001b[30m4, \u001b[30m6, \u001b[30m0, \u001b[30m6, \u001b[30m6, \u001b[31m2, \u001b[30m8, \u001b[30m0, \u001b[30m8, \u001b[30m8, \u001b[30m6, \u001b[30m4, \u001b[30m0, \u001b[30m4, \u001b[30m4, \u001b[30m8, \u001b[31m2, \u001b[30m0, \u001b[31m2, \u001b[31m2, \u001b[30m4, \u001b[30m6, \u001b[30m0, \u001b[30m6, \u001b[30m6, \u001b[31m2, \u001b[30m8, \u001b[30m0, \u001b[30m8, \u001b[30m8, \u001b[30m6, \u001b[30m4, \u001b[30m0, \u001b[30m4, \u001b[30m4, \u001b[30m8, \u001b[31m2, \u001b[30m0, \u001b[31m2, \u001b[31m2, \u001b[30m4, \u001b[30m6, \u001b[30m0, \u001b[30m6, \u001b[30m6, \u001b[31m2, \u001b[30m8, \u001b[30m0, \u001b[30m8, \u001b[30m8, \u001b[30m6, \u001b[30m4, \u001b[30m0, \u001b[30m4, \u001b[30m4, \u001b[30m8, \u001b[31m2, \u001b[30m0, \u001b[31m2, "
     ]
    }
   ],
   "source": [
    "#(2, 4)\n",
    "y = number_bracelet(2, 4, 100)\n",
    "for i in y:\n",
    "    print(symb(i), end = \", \")"
   ]
  },
  {
   "cell_type": "code",
   "execution_count": 11,
   "id": "41bc7383-295f-4d81-a7c4-45c80fa2ce09",
   "metadata": {
    "tags": []
   },
   "outputs": [
    {
     "name": "stdout",
     "output_type": "stream",
     "text": [
      "\u001b[31m2, \u001b[30m6, \u001b[30m8, \u001b[30m4, \u001b[31m2, \u001b[30m6, \u001b[30m8, \u001b[30m4, \u001b[31m2, \u001b[30m6, \u001b[30m8, \u001b[30m4, \u001b[31m2, \u001b[30m6, \u001b[30m8, \u001b[30m4, \u001b[31m2, \u001b[30m6, \u001b[30m8, \u001b[30m4, \u001b[31m2, \u001b[30m6, \u001b[30m8, \u001b[30m4, \u001b[31m2, \u001b[30m6, \u001b[30m8, \u001b[30m4, \u001b[31m2, \u001b[30m6, \u001b[30m8, \u001b[30m4, \u001b[31m2, \u001b[30m6, \u001b[30m8, \u001b[30m4, \u001b[31m2, \u001b[30m6, \u001b[30m8, \u001b[30m4, \u001b[31m2, \u001b[30m6, \u001b[30m8, \u001b[30m4, \u001b[31m2, \u001b[30m6, \u001b[30m8, \u001b[30m4, \u001b[31m2, \u001b[30m6, \u001b[30m8, \u001b[30m4, \u001b[31m2, \u001b[30m6, \u001b[30m8, \u001b[30m4, \u001b[31m2, \u001b[30m6, \u001b[30m8, \u001b[30m4, \u001b[31m2, \u001b[30m6, \u001b[30m8, \u001b[30m4, \u001b[31m2, \u001b[30m6, \u001b[30m8, \u001b[30m4, \u001b[31m2, \u001b[30m6, \u001b[30m8, \u001b[30m4, \u001b[31m2, \u001b[30m6, \u001b[30m8, \u001b[30m4, \u001b[31m2, \u001b[30m6, \u001b[30m8, \u001b[30m4, \u001b[31m2, \u001b[30m6, \u001b[30m8, \u001b[30m4, \u001b[31m2, \u001b[30m6, \u001b[30m8, \u001b[30m4, \u001b[31m2, \u001b[30m6, \u001b[30m8, \u001b[30m4, \u001b[31m2, \u001b[30m6, \u001b[30m8, \u001b[30m4, \u001b[31m2, \u001b[30m6, \u001b[30m8, \u001b[30m4, "
     ]
    }
   ],
   "source": [
    "#(2,6)\n",
    "y = number_bracelet(2, 6, 100)\n",
    "for i in y:\n",
    "    print(symb(i), end = \", \")"
   ]
  },
  {
   "cell_type": "code",
   "execution_count": 12,
   "id": "2d24e214-a667-45f4-b1cd-426870346ae4",
   "metadata": {},
   "outputs": [
    {
     "name": "stdout",
     "output_type": "stream",
     "text": [
      "\u001b[31m2, \u001b[30m6, \u001b[30m8, \u001b[30m4, \u001b[31m2, \u001b[30m6, \u001b[30m8, \u001b[30m4, \u001b[31m2, \u001b[30m6, \u001b[30m8, \u001b[30m4, \u001b[31m2, \u001b[30m6, \u001b[30m8, \u001b[30m4, \u001b[31m2, \u001b[30m6, \u001b[30m8, \u001b[30m4, \u001b[31m2, \u001b[30m6, \u001b[30m8, \u001b[30m4, \u001b[31m2, \u001b[30m6, \u001b[30m8, \u001b[30m4, \u001b[31m2, \u001b[30m6, \u001b[30m8, \u001b[30m4, \u001b[31m2, \u001b[30m6, \u001b[30m8, \u001b[30m4, \u001b[31m2, \u001b[30m6, \u001b[30m8, \u001b[30m4, \u001b[31m2, \u001b[30m6, \u001b[30m8, \u001b[30m4, \u001b[31m2, \u001b[30m6, \u001b[30m8, \u001b[30m4, \u001b[31m2, \u001b[30m6, \u001b[30m8, \u001b[30m4, \u001b[31m2, \u001b[30m6, \u001b[30m8, \u001b[30m4, \u001b[31m2, \u001b[30m6, \u001b[30m8, \u001b[30m4, \u001b[31m2, \u001b[30m6, \u001b[30m8, \u001b[30m4, \u001b[31m2, \u001b[30m6, \u001b[30m8, \u001b[30m4, \u001b[31m2, \u001b[30m6, \u001b[30m8, \u001b[30m4, \u001b[31m2, \u001b[30m6, \u001b[30m8, \u001b[30m4, \u001b[31m2, \u001b[30m6, \u001b[30m8, \u001b[30m4, \u001b[31m2, \u001b[30m6, \u001b[30m8, \u001b[30m4, \u001b[31m2, \u001b[30m6, \u001b[30m8, \u001b[30m4, \u001b[31m2, \u001b[30m6, \u001b[30m8, \u001b[30m4, \u001b[31m2, \u001b[30m6, \u001b[30m8, \u001b[30m4, \u001b[31m2, \u001b[30m6, \u001b[30m8, \u001b[30m4, "
     ]
    }
   ],
   "source": [
    "#(5, 0)\n",
    "y = number_bracelet(2, 6, 100)\n",
    "for i in y:\n",
    "    print(symb(i), end = \", \")"
   ]
  },
  {
   "cell_type": "code",
   "execution_count": 13,
   "id": "55713851-face-4f15-85aa-f8742677f04b",
   "metadata": {},
   "outputs": [],
   "source": [
    "# Checking if the number bracelet has certain numbers next to each other so can classify it\n",
    "def has11(y):\n",
    "    for i in range(0, len(y)-1):\n",
    "        if (y[i] == 1) and (y[i+1] == 1):\n",
    "            return True\n",
    "    if (y[0] == 1) and (y[len(y) - 1] == 1):\n",
    "        return True\n",
    "    return False \n",
    "\n",
    "def has13(y):\n",
    "    for i in range(0, len(y)-1):\n",
    "        if (y[i] == 1) and (y[i+1] == 3):\n",
    "            return True\n",
    "    if (y[0] == 3) and (y[len(y) - 1] == 1):\n",
    "        return True\n",
    "    return False \n",
    "\n",
    "def has20(y):\n",
    "    for i in range(0, len(y)-1):\n",
    "        if (y[i] == 2) and (y[i+1] == 0):\n",
    "            return True\n",
    "    if (y[0] == 0) and (y[len(y) - 1] == 2):\n",
    "        return True\n",
    "    return False \n",
    "\n",
    "def has26(y):\n",
    "    for i in range(0, len(y)-1):\n",
    "        if (y[i] == 2) and (y[i+1] == 6):\n",
    "            return True\n",
    "    if (y[0] == 6) and (y[len(y) - 1] == 2):\n",
    "        return True\n",
    "    return False \n",
    "\n",
    "def has05(y):\n",
    "    for i in range(0, len(y)-1):\n",
    "        if (y[i] == 0) and (y[i+1] == 5):\n",
    "            return True\n",
    "    if (y[0] == 5) and (y[len(y) - 1] == 0):\n",
    "        return True\n",
    "    return False "
   ]
  },
  {
   "cell_type": "code",
   "execution_count": 14,
   "id": "0025e400-e251-4f28-83db-f9aa4fa169df",
   "metadata": {},
   "outputs": [
    {
     "name": "stdout",
     "output_type": "stream",
     "text": [
      "The number of number bracelets of each type is\n",
      "A:  1\n",
      "B:  60\n",
      "C:  12\n",
      "D:  20\n",
      "E:  4\n",
      "F:  3\n"
     ]
    }
   ],
   "source": [
    "A = 0\n",
    "B = 0\n",
    "C = 0\n",
    "D = 0\n",
    "E = 0\n",
    "F = 0\n",
    "\n",
    "for i in range(10):\n",
    "    for j in range(10):\n",
    "        y = number_bracelet(i, j, 100)\n",
    "        if has11(y) == True:\n",
    "            B += 1\n",
    "        elif has13(y) == True:\n",
    "            C += 1\n",
    "        elif has20(y) == True:\n",
    "            D += 1\n",
    "        elif has26(y) == True:\n",
    "            E += 1\n",
    "        elif has05(y) == True:\n",
    "            F += 1\n",
    "        else:\n",
    "            A += 1\n",
    "print(\"The number of number bracelets of each type is\")       \n",
    "print(\"A: \", A)\n",
    "print(\"B: \", B)\n",
    "print(\"C: \", C)\n",
    "print(\"D: \", D)\n",
    "print(\"E: \", E)\n",
    "print(\"F: \", F)"
   ]
  },
  {
   "cell_type": "code",
   "execution_count": 15,
   "id": "c9f52c07-e076-4cd9-8d25-6f790f00e10d",
   "metadata": {},
   "outputs": [
    {
     "data": {
      "image/png": "[encoded data removed]",
      "text/plain": [
       "<Figure size 720x432 with 1 Axes>"
      ]
     },
     "metadata": {
      "needs_background": "light"
     },
     "output_type": "display_data"
    }
   ],
   "source": [
    "types = [\"A\", \"B\", \"C\", \"D\", \"E\", \"F\"]\n",
    "values = [A, B, C, D, E, F]\n",
    "\n",
    "fig = plt.figure(figsize = (10, 6))\n",
    "# creating the bar chart\n",
    "plt.bar(types, values, width = 0.4)\n",
    "plt.xlabel(\"Type of Number Bracelet\")\n",
    "plt.ylabel(\"No. of Number Bracelets\")\n",
    "plt.title(\"Number of Number Bracelets of each type\")\n",
    "plt.savefig('Bracelet_types.png')"
   ]
  }
 ],
 "metadata": {
  "kernelspec": {
   "display_name": "Python 3 (ipykernel)",
   "language": "python",
   "name": "python3"
  },
  "language_info": {
   "codemirror_mode": {
    "name": "ipython",
    "version": 3
   },
   "file_extension": ".py",
   "mimetype": "text/x-python",
   "name": "python",
   "nbconvert_exporter": "python",
   "pygments_lexer": "ipython3",
   "version": "3.9.12"
  }
 },
 "nbformat": 4,
 "nbformat_minor": 5
}
