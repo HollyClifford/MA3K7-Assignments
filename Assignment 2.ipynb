{
 "cells": [
  {
   "cell_type": "markdown",
   "id": "be672b46-b151-4c2d-bb65-22230f930994",
   "metadata": {},
   "source": [
    "# Assignment 1"
   ]
  },
  {
   "cell_type": "code",
   "execution_count": null,
   "id": "4430824a-20e7-4e60-9ddc-7c55cdd8604c",
   "metadata": {},
   "outputs": [],
   "source": [
    "import numpy as np"
   ]
  },
  {
   "cell_type": "markdown",
   "id": "84c4cc86-5da3-484a-aa58-10f3d5c165fd",
   "metadata": {},
   "source": [
    "## Attack"
   ]
  },
  {
   "cell_type": "code",
   "execution_count": null,
   "id": "c90e8a5b-12f5-485e-bc9f-624ddf790b23",
   "metadata": {},
   "outputs": [],
   "source": [
    "def determinant(matrix):\n",
    "    matrix = matrix.astype(float)\n",
    "    determinant = np.linalg.det(matrix)\n",
    "    if determinant == 0.0:\n",
    "        print(\"Player 0 Wins! Determinant is\", int(determinant))\n",
    "    else:\n",
    "        print(\"Player 1 Wins! Determinant is\", int(determinant))"
   ]
  },
  {
   "cell_type": "code",
   "execution_count": null,
   "id": "fccf5b5f-d004-4387-ab5e-53193e0adf72",
   "metadata": {},
   "outputs": [],
   "source": [
    "def print_matrix(n, matrix):\n",
    "    for row in range(n):\n",
    "        for column in range(n):\n",
    "            if (column == (n-1)):\n",
    "                print(matrix[row,column], end = \" \\n\")\n",
    "            else:\n",
    "                print(matrix[row,column], end = \" \")"
   ]
  },
  {
   "cell_type": "code",
   "execution_count": null,
   "id": "2836084c-693a-4d1f-bb43-2e661c53a96a",
   "metadata": {},
   "outputs": [],
   "source": [
    "def check(row, column, matrix):\n",
    "    while True:\n",
    "        if (0 > row or row >= len(matrix) or 0 > column or column >= len(matrix)):\n",
    "            print(\"Index out of range, remember pick numbers between and including 0 and\", len(matrix) - 1)\n",
    "            row = int(input(\"Row (starting at index 0): \"))\n",
    "            column = int(input(\"Column (starting at index 0): \"))\n",
    "        elif matrix[row,column] != \"*\":\n",
    "            print(\"Value already there, pick another place!\")\n",
    "            row = int(input(\"Row (starting at index 0): \"))\n",
    "            column = int(input(\"Column (starting at index 0): \"))\n",
    "        else:\n",
    "            return row, column"
   ]
  },
  {
   "cell_type": "code",
   "execution_count": null,
   "id": "ceaa47a4-00f7-4ba6-90bd-df5f94e8bd3b",
   "metadata": {},
   "outputs": [],
   "source": [
    "def game(myturn):\n",
    "    global matrix\n",
    "    global number_turns\n",
    "    number_turns += 1\n",
    "    if myturn == 0:\n",
    "        print()\n",
    "        print(\"Player 0 turn: Where do you want to add a zero?\")\n",
    "        row = int(input(\"Row (starting at index 0): \"))\n",
    "        column = int(input(\"Column (starting at index 0): \"))\n",
    "        row, column = check(row, column, matrix)\n",
    "        print()\n",
    "        matrix[row, column] = myturn\n",
    "        print_matrix(n, matrix)\n",
    "        if number_turns == n*n:\n",
    "            print()\n",
    "            determinant(matrix)\n",
    "            return 0\n",
    "        game(1)\n",
    "    else:\n",
    "        print()\n",
    "        print(\"Player 1 turn: Where do you want to add a one?\")\n",
    "        row = int(input(\"Row (starting at index 0): \"))\n",
    "        column = int(input(\"Column (starting at index 0): \"))\n",
    "        row, column  = check(row, column, matrix)\n",
    "        print()\n",
    "        matrix[row, column] = myturn\n",
    "        print_matrix(n, matrix)\n",
    "        if number_turns == n*n:\n",
    "            print()\n",
    "            determinant(matrix)\n",
    "            return 0\n",
    "        game(0) "
   ]
  },
  {
   "cell_type": "code",
   "execution_count": null,
   "id": "8ac77168-a747-4e38-a1f0-573309a53af8",
   "metadata": {},
   "outputs": [],
   "source": [
    "n = 2\n",
    "matrix = np.full((n,n), \"*\")\n",
    "print_matrix(n, matrix)\n",
    "number_turns = 0\n",
    "myturn = 0\n",
    "\n",
    "game(myturn)"
   ]
  },
  {
   "cell_type": "code",
   "execution_count": null,
   "id": "aab3f778-bdd0-4563-957c-46fdca282ea4",
   "metadata": {},
   "outputs": [],
   "source": [
    "np.linalg.det(np.array([[0,1,0],[1,0,1],[0,0,1]]))"
   ]
  },
  {
   "cell_type": "code",
   "execution_count": null,
   "id": "27228597-7f58-45a1-848a-7921aa4e5f64",
   "metadata": {},
   "outputs": [],
   "source": [
    "np.linalg.det(np.array([[1,0,1,0],[0,1,0,1],[1,0,1,0],[0,1,0,1]]))"
   ]
  },
  {
   "cell_type": "code",
   "execution_count": null,
   "id": "6dbdf615-668d-42fa-b4a9-d9bf8eb0e21e",
   "metadata": {},
   "outputs": [],
   "source": [
    "np.linalg.det(np.array([[1,0,0,1],[0,1,1,0],[1,1,1,0],[0,0,0,1]]))"
   ]
  },
  {
   "cell_type": "code",
   "execution_count": null,
   "id": "aa38deef-c2f6-413b-be01-4e681ce93c4d",
   "metadata": {},
   "outputs": [],
   "source": [
    "np.linalg.det(np.array([[1,0,1,0,0,0],[0,1,0,1,1,1],[1,0,0,1,0,1],[0,1,0,1,0,1],[1,0,1,0,1,1],[0,1,1,0,0,0]]))"
   ]
  },
  {
   "cell_type": "markdown",
   "id": "c3690109-91aa-42f9-af56-78e51286647d",
   "metadata": {},
   "source": [
    "## Extension "
   ]
  },
  {
   "cell_type": "code",
   "execution_count": null,
   "id": "ce5844f0-82f5-4c5f-9e6c-8a2abaf23716",
   "metadata": {},
   "outputs": [],
   "source": [
    "def check_extension(row, column, matrix, value):\n",
    "    while True:\n",
    "        if (0 > row or row >= len(matrix) or 0 > column or column >= len(matrix)):\n",
    "            print(\"Index out of range, remember pick numbers between and including 0 and\", len(matrix) - 1)\n",
    "            row = int(input(\"Row (starting at index 0): \"))\n",
    "            column = int(input(\"Column (starting at index 0): \"))\n",
    "        elif matrix[row,column] != \"*\":\n",
    "            print(\"Value already there, pick another place!\")\n",
    "            row = int(input(\"Row (starting at index 0): \"))\n",
    "            column = int(input(\"Column (starting at index 0): \"))\n",
    "        elif (0 > value or value > 9):\n",
    "            print(\"That is not an integer between 0 and 9\")\n",
    "            value = int(input(\"Value between 0 and 9: \"))\n",
    "        else:\n",
    "            return row, column, value"
   ]
  },
  {
   "cell_type": "code",
   "execution_count": null,
   "id": "5439093b-e7f3-4826-837d-fab893f2d31d",
   "metadata": {},
   "outputs": [],
   "source": [
    "def game_extension(myturn):\n",
    "    global matrix\n",
    "    global number_turns\n",
    "    number_turns += 1\n",
    "    if myturn == 0:\n",
    "        print()\n",
    "        print(\"Player 0 turn: Where do you want to add a value?\")\n",
    "        row = int(input(\"Row (starting at index 0): \"))\n",
    "        column = int(input(\"Column (starting at index 0): \"))\n",
    "        value = int(input(\"Value between 0 and 9: \"))\n",
    "        row, column, value  = check_extension(row, column, matrix, value)\n",
    "        print()\n",
    "        matrix[row, column] = value\n",
    "        print_matrix(n, matrix)\n",
    "        if number_turns == n*n:\n",
    "            print()\n",
    "            determinant(matrix)\n",
    "            return 0\n",
    "        game_extension(1)\n",
    "    else:\n",
    "        print()\n",
    "        print(\"Player 1 turn: Where do you want to add a value?\")\n",
    "        row = int(input(\"Row (starting at index 0): \"))\n",
    "        column = int(input(\"Column (starting at index 0): \"))\n",
    "        value = int(input(\"Value between 0 and 9: \"))\n",
    "        row, column, value  = check_extension(row, column, matrix, value)\n",
    "        print()\n",
    "        matrix[row, column] = value\n",
    "        print_matrix(n, matrix)\n",
    "        if number_turns == n*n:\n",
    "            print()\n",
    "            determinant(matrix)\n",
    "            return 0\n",
    "        game_extension(0) "
   ]
  },
  {
   "cell_type": "code",
   "execution_count": null,
   "id": "ee7d1c0a-d126-40be-b5b7-9f2e6ed56dec",
   "metadata": {},
   "outputs": [],
   "source": [
    "n = 3\n",
    "matrix = np.full((n,n), \"*\")\n",
    "print_matrix(n, matrix)\n",
    "number_turns = 0\n",
    "myturn = 0\n",
    "\n",
    "game_extension(myturn)"
   ]
  }
 ],
 "metadata": {
  "kernelspec": {
   "display_name": "Python 3 (ipykernel)",
   "language": "python",
   "name": "python3"
  },
  "language_info": {
   "codemirror_mode": {
    "name": "ipython",
    "version": 3
   },
   "file_extension": ".py",
   "mimetype": "text/x-python",
   "name": "python",
   "nbconvert_exporter": "python",
   "pygments_lexer": "ipython3",
   "version": "3.9.12"
  }
 },
 "nbformat": 4,
 "nbformat_minor": 5
}
